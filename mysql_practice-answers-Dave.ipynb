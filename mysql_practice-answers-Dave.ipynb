{
 "metadata": {
  "name": "",
  "signature": "sha256:83bd852ccfb504c22e069600f5a95327d1c9c9b2ca4c5af47ccba2a96f20a61b"
 },
 "nbformat": 3,
 "nbformat_minor": 0,
 "worksheets": [
  {
   "cells": [
    {
     "cell_type": "markdown",
     "metadata": {},
     "source": [
      "## W3 School\n",
      "\n",
      "We'll be playing with the live database available here:\n",
      "\n",
      "http://www.w3schools.com/sql/trysql.asp?filename=trysql_select_all\n",
      "\n",
      "## Questions\n",
      "\n",
      "Let's walk through a few examples:\n",
      "\n",
      "1) Retrieve all Customers from Madrid\n",
      "\n",
      "    SELECT * FROM Customers WHERE City='Madrid'\n",
      "\n",
      "2) What is the most common city for customers?\n",
      "\n",
      "    SELECT City, COUNT(*) FROM Customers GROUP BY City\n",
      "\n",
      "3) What category has the most products?\n",
      "\n",
      "    SELECT CategoryName, COUNT(*) FROM Categories\n",
      "    JOIN Products on (Categories.CategoryID = Products.CategoryID)\n",
      "    GROUP BY CategoryName\n",
      "\n",
      "## Classwork\n",
      "\n",
      "1. What customers are from the UK?\n",
      "2. What is the name of the customer who has the most orders?\n",
      "3. What supplier has the highest average product price?\n",
      "4. What category has the most orders?\n",
      "5. What employee made the most sales (by number of sales)?\n",
      "6. What employee made the most sales (by value of sales)?\n",
      "7. What Employees have BS degrees? (Hint: Look at LIKE operator)\n",
      "8. What supplier has the highest average product price *assuming they have at least 2 products* (Hint: Look at the HAVING operator)\n",
      "\n",
      "Submit these SQL queries as a .sql file to github, using SQL comments to have the question referring to each:\n",
      "\n",
      "    -- What customers are from the UK?\n",
      "    SELECT * FROM Customers WHERE Country = 'UK'\n",
      "\n",
      "    -- What is the name of the customer who has the most orders?\n",
      "\n"
     ]
    },
    {
     "cell_type": "code",
     "collapsed": false,
     "input": [],
     "language": "python",
     "metadata": {},
     "outputs": []
    },
    {
     "cell_type": "code",
     "collapsed": false,
     "input": [],
     "language": "python",
     "metadata": {},
     "outputs": []
    }
   ],
   "metadata": {}
  }
 ]
}