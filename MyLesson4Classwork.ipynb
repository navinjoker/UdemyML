{
 "metadata": {
  "name": "",
  "signature": "sha256:f7273d3f269df28070781d5f72daa1cef185dda8bf9d18db26e34a964c5359f0"
 },
 "nbformat": 3,
 "nbformat_minor": 0,
 "worksheets": [
  {
   "cells": [
    {
     "cell_type": "code",
     "collapsed": false,
     "input": [],
     "language": "python",
     "metadata": {},
     "outputs": []
    },
    {
     "cell_type": "code",
     "collapsed": false,
     "input": [
      "%pylab inline"
     ],
     "language": "python",
     "metadata": {},
     "outputs": [
      {
       "output_type": "stream",
       "stream": "stdout",
       "text": [
        "Populating the interactive namespace from numpy and matplotlib\n"
       ]
      }
     ],
     "prompt_number": 1
    },
    {
     "cell_type": "markdown",
     "metadata": {},
     "source": [
      "from pandas import *"
     ]
    },
    {
     "cell_type": "code",
     "collapsed": false,
     "input": [
      "from pandas import *"
     ],
     "language": "python",
     "metadata": {},
     "outputs": [],
     "prompt_number": 2
    },
    {
     "cell_type": "code",
     "collapsed": false,
     "input": [
      "a = randn(50).cumsum()\n",
      "b = randn(50).cumsum()\n",
      "c = randn(50).cumsum()"
     ],
     "language": "python",
     "metadata": {},
     "outputs": [],
     "prompt_number": 4
    },
    {
     "cell_type": "code",
     "collapsed": false,
     "input": [
      "df=DataFrame({'a':a,'b':b,'c':c})"
     ],
     "language": "python",
     "metadata": {},
     "outputs": [],
     "prompt_number": 5
    },
    {
     "cell_type": "code",
     "collapsed": false,
     "input": [
      "df"
     ],
     "language": "python",
     "metadata": {},
     "outputs": [
      {
       "html": [
        "<div style=\"max-height:1000px;max-width:1500px;overflow:auto;\">\n",
        "<table border=\"1\" class=\"dataframe\">\n",
        "  <thead>\n",
        "    <tr style=\"text-align: right;\">\n",
        "      <th></th>\n",
        "      <th>a</th>\n",
        "      <th>b</th>\n",
        "      <th>c</th>\n",
        "    </tr>\n",
        "  </thead>\n",
        "  <tbody>\n",
        "    <tr>\n",
        "      <th>0 </th>\n",
        "      <td> 0.582065</td>\n",
        "      <td> 0.537430</td>\n",
        "      <td> 0.015033</td>\n",
        "    </tr>\n",
        "    <tr>\n",
        "      <th>1 </th>\n",
        "      <td> 1.298471</td>\n",
        "      <td> 0.181662</td>\n",
        "      <td>-1.526575</td>\n",
        "    </tr>\n",
        "    <tr>\n",
        "      <th>2 </th>\n",
        "      <td> 2.722915</td>\n",
        "      <td> 0.117190</td>\n",
        "      <td>-0.215919</td>\n",
        "    </tr>\n",
        "    <tr>\n",
        "      <th>3 </th>\n",
        "      <td> 1.823230</td>\n",
        "      <td> 0.196216</td>\n",
        "      <td> 0.882851</td>\n",
        "    </tr>\n",
        "    <tr>\n",
        "      <th>4 </th>\n",
        "      <td> 0.397869</td>\n",
        "      <td> 0.126986</td>\n",
        "      <td>-0.174793</td>\n",
        "    </tr>\n",
        "    <tr>\n",
        "      <th>5 </th>\n",
        "      <td>-0.815605</td>\n",
        "      <td> 0.579327</td>\n",
        "      <td>-2.420800</td>\n",
        "    </tr>\n",
        "    <tr>\n",
        "      <th>6 </th>\n",
        "      <td>-0.816716</td>\n",
        "      <td> 2.030283</td>\n",
        "      <td>-2.087130</td>\n",
        "    </tr>\n",
        "    <tr>\n",
        "      <th>7 </th>\n",
        "      <td>-1.209067</td>\n",
        "      <td> 3.251915</td>\n",
        "      <td>-3.678582</td>\n",
        "    </tr>\n",
        "    <tr>\n",
        "      <th>8 </th>\n",
        "      <td>-0.367499</td>\n",
        "      <td> 2.911922</td>\n",
        "      <td>-3.271373</td>\n",
        "    </tr>\n",
        "    <tr>\n",
        "      <th>9 </th>\n",
        "      <td>-0.149395</td>\n",
        "      <td> 4.051875</td>\n",
        "      <td>-4.511945</td>\n",
        "    </tr>\n",
        "    <tr>\n",
        "      <th>10</th>\n",
        "      <td>-0.957920</td>\n",
        "      <td> 4.105875</td>\n",
        "      <td>-4.818288</td>\n",
        "    </tr>\n",
        "    <tr>\n",
        "      <th>11</th>\n",
        "      <td>-0.788779</td>\n",
        "      <td> 3.240709</td>\n",
        "      <td>-4.058419</td>\n",
        "    </tr>\n",
        "    <tr>\n",
        "      <th>12</th>\n",
        "      <td> 0.756994</td>\n",
        "      <td> 2.549483</td>\n",
        "      <td>-4.481982</td>\n",
        "    </tr>\n",
        "    <tr>\n",
        "      <th>13</th>\n",
        "      <td> 0.777601</td>\n",
        "      <td> 1.644755</td>\n",
        "      <td>-5.154243</td>\n",
        "    </tr>\n",
        "    <tr>\n",
        "      <th>14</th>\n",
        "      <td> 0.632975</td>\n",
        "      <td> 0.267308</td>\n",
        "      <td>-5.268826</td>\n",
        "    </tr>\n",
        "    <tr>\n",
        "      <th>15</th>\n",
        "      <td> 0.530237</td>\n",
        "      <td>-0.515520</td>\n",
        "      <td>-6.190135</td>\n",
        "    </tr>\n",
        "    <tr>\n",
        "      <th>16</th>\n",
        "      <td>-0.337356</td>\n",
        "      <td>-0.388472</td>\n",
        "      <td>-4.622940</td>\n",
        "    </tr>\n",
        "    <tr>\n",
        "      <th>17</th>\n",
        "      <td> 1.178408</td>\n",
        "      <td>-0.613408</td>\n",
        "      <td>-2.862348</td>\n",
        "    </tr>\n",
        "    <tr>\n",
        "      <th>18</th>\n",
        "      <td> 0.706724</td>\n",
        "      <td> 0.493010</td>\n",
        "      <td>-3.925994</td>\n",
        "    </tr>\n",
        "    <tr>\n",
        "      <th>19</th>\n",
        "      <td> 1.341537</td>\n",
        "      <td> 1.062321</td>\n",
        "      <td>-3.050123</td>\n",
        "    </tr>\n",
        "    <tr>\n",
        "      <th>20</th>\n",
        "      <td> 1.270048</td>\n",
        "      <td> 1.570647</td>\n",
        "      <td>-3.444385</td>\n",
        "    </tr>\n",
        "    <tr>\n",
        "      <th>21</th>\n",
        "      <td> 0.068313</td>\n",
        "      <td> 2.142182</td>\n",
        "      <td>-3.811093</td>\n",
        "    </tr>\n",
        "    <tr>\n",
        "      <th>22</th>\n",
        "      <td> 0.224881</td>\n",
        "      <td> 1.808185</td>\n",
        "      <td>-4.428602</td>\n",
        "    </tr>\n",
        "    <tr>\n",
        "      <th>23</th>\n",
        "      <td> 1.827671</td>\n",
        "      <td> 1.595448</td>\n",
        "      <td>-4.594998</td>\n",
        "    </tr>\n",
        "    <tr>\n",
        "      <th>24</th>\n",
        "      <td> 1.133610</td>\n",
        "      <td> 4.448527</td>\n",
        "      <td>-4.451811</td>\n",
        "    </tr>\n",
        "    <tr>\n",
        "      <th>25</th>\n",
        "      <td>-0.114606</td>\n",
        "      <td> 4.892103</td>\n",
        "      <td>-4.452955</td>\n",
        "    </tr>\n",
        "    <tr>\n",
        "      <th>26</th>\n",
        "      <td> 1.518418</td>\n",
        "      <td> 4.589283</td>\n",
        "      <td>-3.149875</td>\n",
        "    </tr>\n",
        "    <tr>\n",
        "      <th>27</th>\n",
        "      <td> 1.314546</td>\n",
        "      <td> 3.880833</td>\n",
        "      <td>-2.545055</td>\n",
        "    </tr>\n",
        "    <tr>\n",
        "      <th>28</th>\n",
        "      <td> 2.348224</td>\n",
        "      <td> 5.018697</td>\n",
        "      <td>-0.896144</td>\n",
        "    </tr>\n",
        "    <tr>\n",
        "      <th>29</th>\n",
        "      <td> 2.243649</td>\n",
        "      <td> 5.453945</td>\n",
        "      <td>-2.342047</td>\n",
        "    </tr>\n",
        "    <tr>\n",
        "      <th>30</th>\n",
        "      <td> 2.844550</td>\n",
        "      <td> 6.435668</td>\n",
        "      <td>-0.382342</td>\n",
        "    </tr>\n",
        "    <tr>\n",
        "      <th>31</th>\n",
        "      <td> 2.389484</td>\n",
        "      <td> 5.891625</td>\n",
        "      <td> 0.274276</td>\n",
        "    </tr>\n",
        "    <tr>\n",
        "      <th>32</th>\n",
        "      <td> 1.763078</td>\n",
        "      <td> 5.635470</td>\n",
        "      <td> 0.345485</td>\n",
        "    </tr>\n",
        "    <tr>\n",
        "      <th>33</th>\n",
        "      <td> 3.294073</td>\n",
        "      <td> 6.446561</td>\n",
        "      <td> 0.443337</td>\n",
        "    </tr>\n",
        "    <tr>\n",
        "      <th>34</th>\n",
        "      <td> 3.395006</td>\n",
        "      <td> 5.880558</td>\n",
        "      <td> 0.526120</td>\n",
        "    </tr>\n",
        "    <tr>\n",
        "      <th>35</th>\n",
        "      <td> 4.180063</td>\n",
        "      <td> 6.389819</td>\n",
        "      <td> 0.907041</td>\n",
        "    </tr>\n",
        "    <tr>\n",
        "      <th>36</th>\n",
        "      <td> 5.290977</td>\n",
        "      <td> 6.985674</td>\n",
        "      <td>-0.917411</td>\n",
        "    </tr>\n",
        "    <tr>\n",
        "      <th>37</th>\n",
        "      <td> 4.752001</td>\n",
        "      <td> 6.447544</td>\n",
        "      <td>-0.907124</td>\n",
        "    </tr>\n",
        "    <tr>\n",
        "      <th>38</th>\n",
        "      <td> 5.451005</td>\n",
        "      <td> 4.305274</td>\n",
        "      <td> 0.395871</td>\n",
        "    </tr>\n",
        "    <tr>\n",
        "      <th>39</th>\n",
        "      <td> 4.728464</td>\n",
        "      <td> 4.733687</td>\n",
        "      <td> 0.867308</td>\n",
        "    </tr>\n",
        "    <tr>\n",
        "      <th>40</th>\n",
        "      <td> 5.770624</td>\n",
        "      <td> 5.717791</td>\n",
        "      <td> 2.123959</td>\n",
        "    </tr>\n",
        "    <tr>\n",
        "      <th>41</th>\n",
        "      <td> 6.049096</td>\n",
        "      <td> 5.641782</td>\n",
        "      <td> 2.171486</td>\n",
        "    </tr>\n",
        "    <tr>\n",
        "      <th>42</th>\n",
        "      <td> 6.096913</td>\n",
        "      <td> 4.892293</td>\n",
        "      <td> 1.383701</td>\n",
        "    </tr>\n",
        "    <tr>\n",
        "      <th>43</th>\n",
        "      <td> 4.211486</td>\n",
        "      <td> 6.285878</td>\n",
        "      <td> 2.269252</td>\n",
        "    </tr>\n",
        "    <tr>\n",
        "      <th>44</th>\n",
        "      <td> 4.354096</td>\n",
        "      <td> 7.756938</td>\n",
        "      <td> 4.918999</td>\n",
        "    </tr>\n",
        "    <tr>\n",
        "      <th>45</th>\n",
        "      <td> 4.105860</td>\n",
        "      <td> 8.226073</td>\n",
        "      <td> 4.768986</td>\n",
        "    </tr>\n",
        "    <tr>\n",
        "      <th>46</th>\n",
        "      <td> 3.829619</td>\n",
        "      <td> 7.240558</td>\n",
        "      <td> 6.175978</td>\n",
        "    </tr>\n",
        "    <tr>\n",
        "      <th>47</th>\n",
        "      <td> 3.130781</td>\n",
        "      <td> 8.885731</td>\n",
        "      <td> 4.953450</td>\n",
        "    </tr>\n",
        "    <tr>\n",
        "      <th>48</th>\n",
        "      <td> 3.030516</td>\n",
        "      <td> 9.480149</td>\n",
        "      <td> 4.998373</td>\n",
        "    </tr>\n",
        "    <tr>\n",
        "      <th>49</th>\n",
        "      <td> 1.829627</td>\n",
        "      <td> 8.997900</td>\n",
        "      <td> 3.794948</td>\n",
        "    </tr>\n",
        "  </tbody>\n",
        "</table>\n",
        "</div>"
       ],
       "metadata": {},
       "output_type": "pyout",
       "prompt_number": 9,
       "text": [
        "           a         b         c\n",
        "0   0.582065  0.537430  0.015033\n",
        "1   1.298471  0.181662 -1.526575\n",
        "2   2.722915  0.117190 -0.215919\n",
        "3   1.823230  0.196216  0.882851\n",
        "4   0.397869  0.126986 -0.174793\n",
        "5  -0.815605  0.579327 -2.420800\n",
        "6  -0.816716  2.030283 -2.087130\n",
        "7  -1.209067  3.251915 -3.678582\n",
        "8  -0.367499  2.911922 -3.271373\n",
        "9  -0.149395  4.051875 -4.511945\n",
        "10 -0.957920  4.105875 -4.818288\n",
        "11 -0.788779  3.240709 -4.058419\n",
        "12  0.756994  2.549483 -4.481982\n",
        "13  0.777601  1.644755 -5.154243\n",
        "14  0.632975  0.267308 -5.268826\n",
        "15  0.530237 -0.515520 -6.190135\n",
        "16 -0.337356 -0.388472 -4.622940\n",
        "17  1.178408 -0.613408 -2.862348\n",
        "18  0.706724  0.493010 -3.925994\n",
        "19  1.341537  1.062321 -3.050123\n",
        "20  1.270048  1.570647 -3.444385\n",
        "21  0.068313  2.142182 -3.811093\n",
        "22  0.224881  1.808185 -4.428602\n",
        "23  1.827671  1.595448 -4.594998\n",
        "24  1.133610  4.448527 -4.451811\n",
        "25 -0.114606  4.892103 -4.452955\n",
        "26  1.518418  4.589283 -3.149875\n",
        "27  1.314546  3.880833 -2.545055\n",
        "28  2.348224  5.018697 -0.896144\n",
        "29  2.243649  5.453945 -2.342047\n",
        "30  2.844550  6.435668 -0.382342\n",
        "31  2.389484  5.891625  0.274276\n",
        "32  1.763078  5.635470  0.345485\n",
        "33  3.294073  6.446561  0.443337\n",
        "34  3.395006  5.880558  0.526120\n",
        "35  4.180063  6.389819  0.907041\n",
        "36  5.290977  6.985674 -0.917411\n",
        "37  4.752001  6.447544 -0.907124\n",
        "38  5.451005  4.305274  0.395871\n",
        "39  4.728464  4.733687  0.867308\n",
        "40  5.770624  5.717791  2.123959\n",
        "41  6.049096  5.641782  2.171486\n",
        "42  6.096913  4.892293  1.383701\n",
        "43  4.211486  6.285878  2.269252\n",
        "44  4.354096  7.756938  4.918999\n",
        "45  4.105860  8.226073  4.768986\n",
        "46  3.829619  7.240558  6.175978\n",
        "47  3.130781  8.885731  4.953450\n",
        "48  3.030516  9.480149  4.998373\n",
        "49  1.829627  8.997900  3.794948"
       ]
      }
     ],
     "prompt_number": 9
    },
    {
     "cell_type": "code",
     "collapsed": false,
     "input": [
      "df.plot(title='Random Plot',kind='line')"
     ],
     "language": "python",
     "metadata": {},
     "outputs": [
      {
       "metadata": {},
       "output_type": "pyout",
       "prompt_number": 7,
       "text": [
        "<matplotlib.axes.AxesSubplot at 0x106251f50>"
       ]
      },
      {
       "metadata": {},
       "output_type": "display_data",
       "png": "[encoded data removed]",
       "text": [
        "<matplotlib.figure.Figure at 0x106292910>"
       ]
      }
     ],
     "prompt_number": 7
    },
    {
     "cell_type": "code",
     "collapsed": false,
     "input": [
      "titanic = read_csv(\"data/titanic.csv\")"
     ],
     "language": "python",
     "metadata": {},
     "outputs": [],
     "prompt_number": 10
    },
    {
     "cell_type": "code",
     "collapsed": false,
     "input": [
      "SurvivedByClass=titanic.groupby('pclass').survived.sum()\n"
     ],
     "language": "python",
     "metadata": {},
     "outputs": [],
     "prompt_number": 13
    },
    {
     "cell_type": "code",
     "collapsed": false,
     "input": [
      "SurvivedByClass.plot(label='What does this do?')"
     ],
     "language": "python",
     "metadata": {},
     "outputs": [
      {
       "metadata": {},
       "output_type": "pyout",
       "prompt_number": 21,
       "text": [
        "<matplotlib.axes.AxesSubplot at 0x100768c50>"
       ]
      },
      {
       "metadata": {},
       "output_type": "display_data",
       "png": "[encoded data removed]",
       "text": [
        "<matplotlib.figure.Figure at 0x100772310>"
       ]
      }
     ],
     "prompt_number": 21
    },
    {
     "cell_type": "code",
     "collapsed": false,
     "input": [
      "SurvivedByClass.plot?"
     ],
     "language": "python",
     "metadata": {},
     "outputs": [],
     "prompt_number": 22
    },
    {
     "cell_type": "code",
     "collapsed": false,
     "input": [
      "df.plot(title='Random Plot',figsize=(20,8),ylim=(-2,8),use_index='False',kind='barh')"
     ],
     "language": "python",
     "metadata": {},
     "outputs": [
      {
       "metadata": {},
       "output_type": "pyout",
       "prompt_number": 32,
       "text": [
        "<matplotlib.axes.AxesSubplot at 0x10b420250>"
       ]
      },
      {
       "metadata": {},
       "output_type": "display_data",
       "png": "[encoded data removed]",
       "text": [
        "<matplotlib.figure.Figure at 0x109fb1350>"
       ]
      }
     ],
     "prompt_number": 32
    },
    {
     "cell_type": "code",
     "collapsed": false,
     "input": [
      "titanic.fare"
     ],
     "language": "python",
     "metadata": {},
     "outputs": [
      {
       "metadata": {},
       "output_type": "pyout",
       "prompt_number": 40,
       "text": [
        "0      7.2500\n",
        "1     71.2833\n",
        "2      7.9250\n",
        "3     53.1000\n",
        "4      8.0500\n",
        "5      8.4583\n",
        "6     51.8625\n",
        "7     21.0750\n",
        "8     11.1333\n",
        "9     30.0708\n",
        "10    16.7000\n",
        "11    26.5500\n",
        "12     8.0500\n",
        "13    31.2750\n",
        "14     7.8542\n",
        "...\n",
        "876     9.8458\n",
        "877     7.8958\n",
        "878     7.8958\n",
        "879    83.1583\n",
        "880    26.0000\n",
        "881     7.8958\n",
        "882    10.5167\n",
        "883    10.5000\n",
        "884     7.0500\n",
        "885    29.1250\n",
        "886    13.0000\n",
        "887    30.0000\n",
        "888    23.4500\n",
        "889    30.0000\n",
        "890     7.7500\n",
        "Name: fare, Length: 891, dtype: float64"
       ]
      }
     ],
     "prompt_number": 40
    },
    {
     "cell_type": "code",
     "collapsed": false,
     "input": [
      "titanic.fare.hist(bins =250)\n",
      "#TODO How to do ylimit with Histograms (good example of working outside the pandas built in)"
     ],
     "language": "python",
     "metadata": {},
     "outputs": [
      {
       "metadata": {},
       "output_type": "pyout",
       "prompt_number": 57,
       "text": [
        "<matplotlib.axes.AxesSubplot at 0x10edb8490>"
       ]
      },
      {
       "metadata": {},
       "output_type": "display_data",
       "png": "[encoded data removed]",
       "text": [
        "<matplotlib.figure.Figure at 0x10d2fa5d0>"
       ]
      }
     ],
     "prompt_number": 57
    },
    {
     "cell_type": "code",
     "collapsed": false,
     "input": [
      "xkcd()\n",
      "# Density plot -- Estimate the 'true' distribution\n",
      "titanic.fare.dropna().plot(kind='kde', xlim=(0,100))"
     ],
     "language": "python",
     "metadata": {},
     "outputs": [
      {
       "metadata": {},
       "output_type": "pyout",
       "prompt_number": 63,
       "text": [
        "<matplotlib.axes.AxesSubplot at 0x111803e50>"
       ]
      },
      {
       "metadata": {},
       "output_type": "display_data",
       "png": "[encoded data removed]",
       "text": [
        "<matplotlib.figure.Figure at 0x1114a4850>"
       ]
      }
     ],
     "prompt_number": 63
    },
    {
     "cell_type": "code",
     "collapsed": false,
     "input": [
      "# Combine pandas plots by running them together -- if pandas thinks they can be overlapped, it will\n",
      "titanic.fare.hist(bins=25, normed=True, color='lightseagreen')\n",
      "titanic.fare.plot(kind='kde', xlim=(0,100), style='r--')\n",
      "titanic.boxplot(column='fare',by='pclass',grid=False)"
     ],
     "language": "python",
     "metadata": {},
     "outputs": [
      {
       "metadata": {},
       "output_type": "pyout",
       "prompt_number": 62,
       "text": [
        "<matplotlib.axes.AxesSubplot at 0x11182f490>"
       ]
      },
      {
       "metadata": {},
       "output_type": "display_data",
       "png": "[encoded data removed]",
       "text": [
        "<matplotlib.figure.Figure at 0x1113df610>"
       ]
      },
      {
       "metadata": {},
       "output_type": "display_data",
       "png": "[encoded data removed]",
       "text": [
        "<matplotlib.figure.Figure at 0x11182b990>"
       ]
      }
     ],
     "prompt_number": 62
    },
    {
     "cell_type": "code",
     "collapsed": false,
     "input": [],
     "language": "python",
     "metadata": {},
     "outputs": []
    },
    {
     "cell_type": "code",
     "collapsed": false,
     "input": [],
     "language": "python",
     "metadata": {},
     "outputs": []
    },
    {
     "cell_type": "code",
     "collapsed": false,
     "input": [],
     "language": "python",
     "metadata": {},
     "outputs": []
    },
    {
     "cell_type": "code",
     "collapsed": false,
     "input": [],
     "language": "python",
     "metadata": {},
     "outputs": []
    },
    {
     "cell_type": "code",
     "collapsed": false,
     "input": [],
     "language": "python",
     "metadata": {},
     "outputs": []
    },
    {
     "cell_type": "code",
     "collapsed": false,
     "input": [],
     "language": "python",
     "metadata": {},
     "outputs": []
    }
   ],
   "metadata": {}
  }
 ]
}