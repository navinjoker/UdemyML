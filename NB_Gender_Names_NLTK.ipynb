{
 "metadata": {
  "name": "",
  "signature": "sha256:9d5a8f6c1389798ec25ea75417e6b789cfa296c71d986499a7a537eaec530716"
 },
 "nbformat": 3,
 "nbformat_minor": 0,
 "worksheets": [
  {
   "cells": [
    {
     "cell_type": "markdown",
     "metadata": {},
     "source": [
      "# Identifying Gender with Naive Bayes and NLTK"
     ]
    },
    {
     "cell_type": "code",
     "collapsed": false,
     "input": [
      "import nltk"
     ],
     "language": "python",
     "metadata": {},
     "outputs": [],
     "prompt_number": 1
    },
    {
     "cell_type": "code",
     "collapsed": false,
     "input": [
      "!conda install nltk"
     ],
     "language": "python",
     "metadata": {},
     "outputs": [
      {
       "output_type": "stream",
       "stream": "stdout",
       "text": [
        "Fetching package metadata: ."
       ]
      },
      {
       "output_type": "stream",
       "stream": "stdout",
       "text": [
        "."
       ]
      },
      {
       "output_type": "stream",
       "stream": "stdout",
       "text": [
        "\r\n"
       ]
      },
      {
       "output_type": "stream",
       "stream": "stdout",
       "text": [
        "Solving package specifications: "
       ]
      },
      {
       "output_type": "stream",
       "stream": "stdout",
       "text": [
        "."
       ]
      },
      {
       "output_type": "stream",
       "stream": "stdout",
       "text": [
        "."
       ]
      },
      {
       "output_type": "stream",
       "stream": "stdout",
       "text": [
        "."
       ]
      },
      {
       "output_type": "stream",
       "stream": "stdout",
       "text": [
        ".."
       ]
      },
      {
       "output_type": "stream",
       "stream": "stdout",
       "text": [
        "."
       ]
      },
      {
       "output_type": "stream",
       "stream": "stdout",
       "text": [
        "."
       ]
      },
      {
       "output_type": "stream",
       "stream": "stdout",
       "text": [
        "."
       ]
      },
      {
       "output_type": "stream",
       "stream": "stdout",
       "text": [
        "."
       ]
      },
      {
       "output_type": "stream",
       "stream": "stdout",
       "text": [
        "."
       ]
      },
      {
       "output_type": "stream",
       "stream": "stdout",
       "text": [
        "."
       ]
      },
      {
       "output_type": "stream",
       "stream": "stdout",
       "text": [
        "."
       ]
      },
      {
       "output_type": "stream",
       "stream": "stdout",
       "text": [
        "."
       ]
      },
      {
       "output_type": "stream",
       "stream": "stdout",
       "text": [
        "."
       ]
      },
      {
       "output_type": "stream",
       "stream": "stdout",
       "text": [
        "."
       ]
      },
      {
       "output_type": "stream",
       "stream": "stdout",
       "text": [
        "."
       ]
      },
      {
       "output_type": "stream",
       "stream": "stdout",
       "text": [
        "."
       ]
      },
      {
       "output_type": "stream",
       "stream": "stdout",
       "text": [
        "\r\n",
        "# All requested packages already installed.\r\n",
        "# packages in environment at /Applications/anaconda:\r\n",
        "#\r\n",
        "nltk                      2.0.4                np18py27_0  \r\n"
       ]
      }
     ],
     "prompt_number": 3
    },
    {
     "cell_type": "code",
     "collapsed": false,
     "input": [
      "# NLTK has a corpus with a list of male and female names\n",
      "\n",
      "from nltk.corpus import names"
     ],
     "language": "python",
     "metadata": {},
     "outputs": [],
     "prompt_number": 4
    },
    {
     "cell_type": "code",
     "collapsed": false,
     "input": [
      "names.abspath\n"
     ],
     "language": "python",
     "metadata": {},
     "outputs": [
      {
       "metadata": {},
       "output_type": "pyout",
       "prompt_number": 7,
       "text": [
        "<bound method WordListCorpusReader.abspath of <WordListCorpusReader in '/Users/dave/nltk_data/corpora/names'>>"
       ]
      }
     ],
     "prompt_number": 7
    },
    {
     "cell_type": "code",
     "collapsed": false,
     "input": [
      "# Let's read about it:\n",
      "print(names.readme())"
     ],
     "language": "python",
     "metadata": {},
     "outputs": [
      {
       "output_type": "stream",
       "stream": "stdout",
       "text": [
        "Names Corpus, Version 1.3 (1994-03-29)\n",
        "Copyright (C) 1991 Mark Kantrowitz\n",
        "Additions by Bill Ross\n",
        "\n",
        "This corpus contains 5001 female names and 2943 male names, sorted\n",
        "alphabetically, one per line.\n",
        "\n",
        "You may use the lists of names for any purpose, so long as credit is\n",
        "given in any published work. You may also redistribute the list if you\n",
        "provide the recipients with a copy of this README file. The lists are\n",
        "not in the public domain (I retain the copyright on the lists) but are\n",
        "freely redistributable.  If you have any additions to the lists of\n",
        "names, I would appreciate receiving them.\n",
        "\n",
        "Mark Kantrowitz <mkant+@cs.cmu.edu>\n",
        "http://www-2.cs.cmu.edu/afs/cs/project/ai-repository/ai/areas/nlp/corpora/names/\n"
       ]
      }
     ],
     "prompt_number": 5
    },
    {
     "cell_type": "code",
     "collapsed": false,
     "input": [
      "# Let's review the filenames\n",
      "names.fileids()"
     ],
     "language": "python",
     "metadata": {},
     "outputs": []
    },
    {
     "cell_type": "code",
     "collapsed": false,
     "input": [
      "# Let's take a look at the content:\n",
      "names.words('female.txt')"
     ],
     "language": "python",
     "metadata": {},
     "outputs": []
    },
    {
     "cell_type": "code",
     "collapsed": false,
     "input": [
      "# Let's create a list with each element containing value and category\n",
      "names = ([(name, 'male') for name in names.words('male.txt')] + [(name, 'female') for name in names.words('female.txt')])\n",
      "import random\n",
      "random.shuffle(names)"
     ],
     "language": "python",
     "metadata": {},
     "outputs": []
    },
    {
     "cell_type": "code",
     "collapsed": false,
     "input": [
      "# For example:\n",
      "names[2]"
     ],
     "language": "python",
     "metadata": {},
     "outputs": []
    },
    {
     "cell_type": "code",
     "collapsed": false,
     "input": [
      "# Now we'll create our classifier using features of each word -- NLTK uses dictionary formats for features\n",
      "# Step 1 is choosing features!\n",
      "\n",
      "def gender_features(name):\n",
      "    features = {}\n",
      "    features[\"lastletter\"] = name[-1].lower()\n",
      "    return features\n",
      "    \n"
     ],
     "language": "python",
     "metadata": {},
     "outputs": []
    },
    {
     "cell_type": "code",
     "collapsed": false,
     "input": [
      "# For example\n",
      "gender_features('Dave')"
     ],
     "language": "python",
     "metadata": {},
     "outputs": []
    },
    {
     "cell_type": "code",
     "collapsed": false,
     "input": [
      "# Now we'll create a featureset, with features and the associated category\n",
      "featuresets = [(gender_features(n), g) for (n,g) in names]"
     ],
     "language": "python",
     "metadata": {},
     "outputs": []
    },
    {
     "cell_type": "code",
     "collapsed": false,
     "input": [
      "# The featuresets are of the form dictionary, category.  or \"x\" and \"c\" in our Bayes notation.\n",
      "# In this case there is one 'feature'\n",
      "featuresets"
     ],
     "language": "python",
     "metadata": {},
     "outputs": []
    },
    {
     "cell_type": "code",
     "collapsed": false,
     "input": [],
     "language": "python",
     "metadata": {},
     "outputs": []
    },
    {
     "cell_type": "code",
     "collapsed": false,
     "input": [
      "# We take a portion to be the training set and a portion to be the test set\n",
      "train_set, test_set = featuresets[500:], featuresets[:500]"
     ],
     "language": "python",
     "metadata": {},
     "outputs": []
    },
    {
     "cell_type": "code",
     "collapsed": false,
     "input": [
      "# NLTK Magic\n",
      "classifier = nltk.NaiveBayesClassifier.train(train_set)\n"
     ],
     "language": "python",
     "metadata": {},
     "outputs": []
    },
    {
     "cell_type": "code",
     "collapsed": false,
     "input": [
      "# Not so magic -- Uses frequency distributions\n",
      "nltk.NaiveBayesClassifier??"
     ],
     "language": "python",
     "metadata": {},
     "outputs": []
    },
    {
     "cell_type": "code",
     "collapsed": false,
     "input": [
      "# Let's try it\n",
      "classifier.classify(gender_features('Neo'))\n",
      "'male'"
     ],
     "language": "python",
     "metadata": {},
     "outputs": []
    },
    {
     "cell_type": "code",
     "collapsed": false,
     "input": [
      "classifier.classify(gender_features('Trinity'))"
     ],
     "language": "python",
     "metadata": {},
     "outputs": []
    },
    {
     "cell_type": "code",
     "collapsed": false,
     "input": [
      "# Check accuracy:\n",
      "print nltk.classify.accuracy(classifier, test_set)\n"
     ],
     "language": "python",
     "metadata": {},
     "outputs": []
    },
    {
     "cell_type": "code",
     "collapsed": false,
     "input": [
      "classifier.show_most_informative_features(5)\n"
     ],
     "language": "python",
     "metadata": {},
     "outputs": []
    },
    {
     "cell_type": "markdown",
     "metadata": {},
     "source": []
    },
    {
     "cell_type": "code",
     "collapsed": false,
     "input": [
      "# Using a development set:\n",
      "train_names = names[1500:]\n",
      "devtest_names = names[500:1500]\n",
      "test_names = names[:500]"
     ],
     "language": "python",
     "metadata": {},
     "outputs": []
    },
    {
     "cell_type": "code",
     "collapsed": false,
     "input": [
      "\n",
      "train_set = [(gender_features(n), g) for (n,g) in train_names]\n",
      "devtest_set = [(gender_features(n), g) for (n,g) in devtest_names]\n",
      "test_set = [(gender_features(n), g) for (n,g) in test_names]\n",
      "classifier = nltk.NaiveBayesClassifier.train(train_set)\n",
      "print nltk.classify.accuracy(classifier, devtest_set) "
     ],
     "language": "python",
     "metadata": {},
     "outputs": []
    },
    {
     "cell_type": "code",
     "collapsed": false,
     "input": [
      "errors = []\n",
      "for (name, tag) in devtest_names:\n",
      "     guess = classifier.classify(gender_features(name))\n",
      "     if guess != tag:\n",
      "         errors.append( (tag, guess, name) )"
     ],
     "language": "python",
     "metadata": {},
     "outputs": []
    },
    {
     "cell_type": "code",
     "collapsed": false,
     "input": [
      "for (tag, guess, name) in sorted(errors): \n",
      "     print 'correct=%-8s guess=%-8s name=%-30s' % (tag, guess, name)"
     ],
     "language": "python",
     "metadata": {},
     "outputs": []
    },
    {
     "cell_type": "markdown",
     "metadata": {},
     "source": [
      "Task:\n",
      "Modify the gender_features() function to provide the classifier with features encoding the length of the name and any other features that seem like they might be informative. Retrain the classifier with these new features, and test its accuracy."
     ]
    }
   ],
   "metadata": {}
  }
 ]
}