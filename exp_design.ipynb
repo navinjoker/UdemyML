{
 "metadata": {
  "name": "",
  "signature": "sha256:b50daba097c91ae5851c397b3699abf96db6d030d9b3ff3ce990c811febfa00c"
 },
 "nbformat": 3,
 "nbformat_minor": 0,
 "worksheets": [
  {
   "cells": [
    {
     "cell_type": "code",
     "collapsed": false,
     "input": [
      "import numpy as np\n",
      "import pandas as pd\n",
      "import statsmodels.api as sm\n",
      "import matplotlib.pyplot as plt\n",
      "import random\n",
      "import scipy.stats as stats\n",
      "import pylab"
     ],
     "language": "python",
     "metadata": {},
     "outputs": [],
     "prompt_number": 1
    },
    {
     "cell_type": "markdown",
     "metadata": {},
     "source": [
      "## Useful functions to keep track of\n",
      "\n",
      "Running results of a chi squared test from a contingency table\n",
      "```python\n",
      "scipy.stats.chi2_contingency\n",
      "```\n",
      "\n",
      "In statsmodels, we have both grpahics for qqplots, and in OLSinflence, the cook's distance. \n",
      "```python\n",
      "statsmodels.graphics.gofplots.qqplot\n",
      "statsmodels.stats.outliers_influence.OLSInfluence\n",
      "```"
     ]
    },
    {
     "cell_type": "code",
     "collapsed": false,
     "input": [
      "### We already have the contingency plot from class, so check it out:\n",
      "\n",
      "medicine_colds_contingency = np.array([[86, 19], [16, 79]])\n",
      "\n",
      "print stats.chi2_contingency(medicine_colds_contingency)\n",
      "\n",
      "## Exepecting return of the statistic, p-value, and expected values table"
     ],
     "language": "python",
     "metadata": {},
     "outputs": [
      {
       "output_type": "stream",
       "stream": "stdout",
       "text": [
        "(81.901632833584586, 1.4303108207807993e-19, 1, array([[ 53.55,  51.45],\n",
        "       [ 48.45,  46.55]]))\n"
       ]
      }
     ],
     "prompt_number": 5
    },
    {
     "cell_type": "code",
     "collapsed": false,
     "input": [
      "lemons = pd.read_csv('data/lemon_training.csv')"
     ],
     "language": "python",
     "metadata": {},
     "outputs": [],
     "prompt_number": 13
    },
    {
     "cell_type": "code",
     "collapsed": false,
     "input": [
      "\n",
      "## Pandas has a handy crosstab feature that makes it very easy for us to make contingency tables!\n",
      "print pd.crosstab(lemons['Make'], [lemons['Nationality']])\n"
     ],
     "language": "python",
     "metadata": {},
     "outputs": [
      {
       "output_type": "stream",
       "stream": "stdout",
       "text": [
        "Nationality   AMERICAN  OTHER  OTHER ASIAN  TOP LINE ASIAN\n",
        "Make                                                      \n",
        "ACURA                0      0           23               0\n",
        "BUICK              509      0            0               0\n",
        "CADILLAC            20      0            0               0\n",
        "CHEVROLET        12084      0            0               0\n",
        "CHRYSLER          6149      0            0               0\n",
        "DODGE             9031      0            0               0\n",
        "FORD              7978      0            0               0\n",
        "GMC                481      0            0               0\n",
        "HONDA                0      0            0             353\n",
        "HYUNDAI              0      0         1244               0\n",
        "INFINITI             0      0           27               0\n",
        "ISUZU                0      0           96               0\n",
        "JEEP              1150      0            0               0\n",
        "KIA                  0      0         1738               0\n",
        "LEXUS                0      0           22               0\n",
        "LINCOLN             65      0            0               0\n",
        "MAZDA                0      0          682               0\n",
        "MERCURY            618      0            0               0\n",
        "MINI                 0     19            0               0\n",
        "MITSUBISHI           0      0          722               0\n",
        "NISSAN               0      0            0            1417\n",
        "OLDSMOBILE         181      0            0               0\n",
        "PLYMOUTH             1      0            0               0\n",
        "PONTIAC           2995      0            0               0\n",
        "SATURN            1494      0            0               0\n",
        "SCION                0      0           91               0\n",
        "SUBARU               0      0           19               0\n",
        "SUZUKI               0      0          943               0\n",
        "TOYOTA               0      0            4             811\n",
        "TOYOTA SCION         0      0            1               0\n",
        "VOLKSWAGEN           0     89            0               0\n",
        "VOLVO                0     29            0               0\n",
        "\n",
        "[32 rows x 4 columns]\n"
       ]
      }
     ],
     "prompt_number": 46
    },
    {
     "cell_type": "code",
     "collapsed": false,
     "input": [
      "make_nat_con_tab = pd.crosstab(lemons['Make'], [lemons['Nationality']]).values\n",
      "\n",
      "statistic, pvalue, dof, expected = stats.chi2_contingency(make_nat_con_tab)\n",
      "print statistic\n",
      "print pvalue\n",
      "print dof\n",
      "print expected"
     ],
     "language": "python",
     "metadata": {},
     "outputs": [
      {
       "output_type": "stream",
       "stream": "stdout",
       "text": [
        "153142.982897\n",
        "0.0\n",
        "93\n",
        "[[  1.92496574e+01   6.16803038e-02   2.52664135e+00   1.16202091e+00]\n",
        " [  4.26003289e+02   1.36501194e+00   5.59156716e+01   2.57160279e+01]\n",
        " [  1.67388326e+01   5.36350468e-02   2.19707943e+00   1.01045296e+00]\n",
        " [  1.01136026e+04   3.24062953e+01   1.32747539e+03   6.10515679e+02]\n",
        " [  5.14635407e+03   1.64900951e+01   6.75492072e+02   3.10663763e+02]\n",
        " [  7.55841984e+03   2.42189054e+01   9.92091219e+02   4.56270035e+02]\n",
        " [  6.67712031e+03   2.13950202e+01   8.76414986e+02   4.03069686e+02]\n",
        " [  4.02568923e+02   1.28992288e+00   5.28397604e+01   2.43013937e+01]\n",
        " [  2.95440395e+02   9.46658576e-01   3.87784520e+01   1.78344948e+01]\n",
        " [  1.04115539e+03   3.33609991e+00   1.36658341e+02   6.28501742e+01]\n",
        " [  2.25974240e+01   7.24073132e-02   2.96605724e+00   1.36411150e+00]\n",
        " [  8.03463963e+01   2.57448225e-01   1.05459813e+01   4.85017422e+00]\n",
        " [  9.62482872e+02   3.08401519e+00   1.26332067e+02   5.81010453e+01]\n",
        " [  1.45460455e+03   4.66088557e+00   1.90926203e+02   8.78083624e+01]\n",
        " [  1.84127158e+01   5.89985515e-02   2.41678738e+00   1.11149826e+00]\n",
        " [  5.44012058e+01   1.74313902e-01   7.14050816e+00   3.28397213e+00]\n",
        " [  5.70794190e+02   1.82895510e+00   7.49204087e+01   3.44564460e+01]\n",
        " [  5.17229926e+02   1.65732295e+00   6.78897545e+01   3.12229965e+01]\n",
        " [  1.59018909e+01   5.09532944e-02   2.08722546e+00   9.59930314e-01]\n",
        " [  6.04271855e+02   1.93622519e+00   7.93145676e+01   3.64773519e+01]\n",
        " [  1.18594629e+03   3.80004306e+00   1.55663078e+02   7.15905923e+01]\n",
        " [  1.51486435e+02   4.85397173e-01   1.98835689e+01   9.14459930e+00]\n",
        " [  8.36941628e-01   2.68175234e-03   1.09853972e-01   5.05226481e-02]\n",
        " [  2.50664018e+03   8.03184826e+00   3.29012645e+02   1.51315331e+02]\n",
        " [  1.25039079e+03   4.00653799e+00   1.64121834e+02   7.54808362e+01]\n",
        " [  7.61616881e+01   2.44039463e-01   9.99671143e+00   4.59756098e+00]\n",
        " [  1.59018909e+01   5.09532944e-02   2.08722546e+00   9.59930314e-01]\n",
        " [  7.89235955e+02   2.52889246e+00   1.03592295e+02   4.76428571e+01]\n",
        " [  6.82107427e+02   2.18562816e+00   8.95309870e+01   4.11759582e+01]\n",
        " [  8.36941628e-01   2.68175234e-03   1.09853972e-01   5.05226481e-02]\n",
        " [  7.44878049e+01   2.38675958e-01   9.77700348e+00   4.49651568e+00]\n",
        " [  2.42713072e+01   7.77708178e-02   3.18576518e+00   1.46515679e+00]]\n"
       ]
      }
     ],
     "prompt_number": 47
    },
    {
     "cell_type": "code",
     "collapsed": false,
     "input": [],
     "language": "python",
     "metadata": {},
     "outputs": []
    }
   ],
   "metadata": {}
  }
 ]
}