{
 "metadata": {
  "name": "",
  "signature": "sha256:8ffec1b887bc9128e663da55f9186de73e64990c23254ccc901cfa6202f0e5e8"
 },
 "nbformat": 3,
 "nbformat_minor": 0,
 "worksheets": [
  {
   "cells": [
    {
     "cell_type": "markdown",
     "metadata": {},
     "source": [
      "SQL Alchemy"
     ]
    },
    {
     "cell_type": "code",
     "collapsed": false,
     "input": [],
     "language": "python",
     "metadata": {},
     "outputs": []
    },
    {
     "cell_type": "code",
     "collapsed": false,
     "input": [],
     "language": "python",
     "metadata": {},
     "outputs": []
    },
    {
     "cell_type": "code",
     "collapsed": false,
     "input": [],
     "language": "python",
     "metadata": {},
     "outputs": []
    },
    {
     "cell_type": "markdown",
     "metadata": {},
     "source": [
      "## Reading SQL into Python / Pandas\n",
      "\n",
      "First, install these new packages:\n",
      "\n",
      "       sudo easy_install pip\n",
      "       pip install psycopg2\n",
      "\n",
      "In your Dropbox under the student directory, you will find the file sql.py. Copy this to your own directory. This is a special helper package that will make it easy to read and write SQL from Python. \n",
      "\n",
      "      import sql\n",
      "      \n",
      "      # Read a database into Pandas\n",
      "      q = 'select * from nytimes'\n",
      "      df = sql.read_db(q, database_url)\n",
      "      \n",
      "      # Create a database datable from Pandas\n",
      "      # Use head() to select the first 5 rows so that don't create too many copies of the data\n",
      "      df.head().to_db('nytimes_copy', database_url)\n",
      "\n",
      "Let's do the same assignment that we did last class, but this time we'll use SQL. Find the click through rate per each age, gender, and signed_in combination (remember that CTR is calculated as clicks/impressions).\n",
      "\n",
      "\n",
      "* Bonus - Read the Baseball salaries dataset (input/Salaries.csv) into Python and insert it into the database. Use Pandas / SQL to explore the dataset and to find the highest and second highest paid members of each team.\n",
      "\n",
      "# Resources\n",
      "\n",
      "[SQL Joins Visualized](http://www.codinghorror.com/blog/2007/10/a-visual-explanation-of-sql-joins.html)\n",
      "\n",
      "[Comparison of NoSQL systems](http://kkovacs.eu/cassandra-vs-mongodb-vs-couchdb-vs-redis)"
     ]
    }
   ],
   "metadata": {}
  }
 ]
}